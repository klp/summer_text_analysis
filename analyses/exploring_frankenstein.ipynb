{
 "cells": [
  {
   "cell_type": "markdown",
   "id": "e04d3797",
   "metadata": {},
   "source": [
    "# Exploring Frankenstein"
   ]
  },
  {
   "cell_type": "markdown",
   "id": "1642067e",
   "metadata": {},
   "source": [
    "This notebook is meant to explore Mary Shelley's _Frankenstein_. In practice, we're warming up our skills, prototyping some functions we may want to build for repeated code, and familiarizing ourselves with different text analysis tools. "
   ]
  },
  {
   "cell_type": "markdown",
   "id": "98ac93d9",
   "metadata": {},
   "source": [
    "## Retrieving our text\n",
    "\n",
    "First, we need to retrieve out text from trusty old [Project Gutenberg](https://www.gutenberg.org/)."
   ]
  },
  {
   "cell_type": "code",
   "execution_count": 1,
   "id": "790dfe4c",
   "metadata": {},
   "outputs": [],
   "source": [
    "from urllib.request import urlopen\n",
    "import nltk"
   ]
  },
  {
   "cell_type": "code",
   "execution_count": 2,
   "id": "be43f241",
   "metadata": {},
   "outputs": [],
   "source": [
    "franken_url = 'https://www.gutenberg.org/cache/epub/42324/pg42324.txt'"
   ]
  },
  {
   "cell_type": "code",
   "execution_count": 3,
   "id": "d7caf47f",
   "metadata": {},
   "outputs": [],
   "source": [
    "franken_file = urlopen(franken_url)"
   ]
  },
  {
   "cell_type": "code",
   "execution_count": 4,
   "id": "4acfab5b",
   "metadata": {},
   "outputs": [
    {
     "data": {
      "text/plain": [
       "http.client.HTTPResponse"
      ]
     },
     "execution_count": 4,
     "metadata": {},
     "output_type": "execute_result"
    }
   ],
   "source": [
    "type(franken_file)"
   ]
  },
  {
   "cell_type": "code",
   "execution_count": 5,
   "id": "6eac0bc3",
   "metadata": {},
   "outputs": [],
   "source": [
    "raw = franken_file.read()    # Read in the actual file"
   ]
  },
  {
   "cell_type": "code",
   "execution_count": 6,
   "id": "df5e8389",
   "metadata": {},
   "outputs": [],
   "source": [
    "franken_string = raw.decode()    # Convert from bites to a string"
   ]
  },
  {
   "cell_type": "code",
   "execution_count": 7,
   "id": "55aa7c4b",
   "metadata": {},
   "outputs": [
    {
     "data": {
      "text/plain": [
       "str"
      ]
     },
     "execution_count": 7,
     "metadata": {},
     "output_type": "execute_result"
    }
   ],
   "source": [
    "type(franken_string)    # Bingo"
   ]
  },
  {
   "cell_type": "code",
   "execution_count": 8,
   "id": "be3fe403",
   "metadata": {},
   "outputs": [
    {
     "data": {
      "text/plain": [
       "'\\ufeffThe Project Gutenberg EBook of Frankenstein, by Mary W. Shelley\\r\\n\\r\\nThis eBook is for the use of anyone anywhere at no cost and with\\r\\nalmost no restrictions whatsoever.  You may copy it, give it away or\\r\\nre-use it under the terms of the Project Gutenberg License included\\r\\nwith this eBook or online at www.gutenberg.org\\r\\n\\r\\n\\r\\nTitle: Frankenstein\\r\\n       or, The Modern Prometheus\\r\\n\\r\\nAuthor: Mary W. Shelley\\r\\n\\r\\nRelease Date: March 13, 2013 [EBook #42324]\\r\\n\\r\\nLanguage: English\\r\\n\\r\\n\\r\\n*** START OF THIS PROJECT GUTENBERG EBOOK FRANKENSTEIN ***\\r\\n\\r\\n\\r\\n\\r\\n\\r\\nProduced by Greg Weeks, Mary Meehan and the Online\\r\\nD'"
      ]
     },
     "execution_count": 8,
     "metadata": {},
     "output_type": "execute_result"
    }
   ],
   "source": [
    "franken_string[:600]"
   ]
  },
  {
   "cell_type": "markdown",
   "id": "2038e958",
   "metadata": {},
   "source": [
    "## Tokenize, format for nltk, slice out front/back matter\n",
    "\n",
    "Next we'll tokenize the text, and format in such a way that `nltk` can work with it. We'll also trim the text of front and back matter added by Project Gutenberg's ebook"
   ]
  },
  {
   "cell_type": "code",
   "execution_count": 9,
   "id": "2a0f852a",
   "metadata": {},
   "outputs": [],
   "source": [
    "franken_tokens = nltk.word_tokenize(franken_string)"
   ]
  },
  {
   "cell_type": "code",
   "execution_count": 10,
   "id": "6023e021",
   "metadata": {},
   "outputs": [
    {
     "data": {
      "text/plain": [
       "list"
      ]
     },
     "execution_count": 10,
     "metadata": {},
     "output_type": "execute_result"
    }
   ],
   "source": [
    "type(franken_tokens)    # Now, we're working with a list rather than a string"
   ]
  },
  {
   "cell_type": "code",
   "execution_count": 12,
   "id": "75ffe08f",
   "metadata": {},
   "outputs": [
    {
     "data": {
      "text/plain": [
       "['\\ufeffThe',\n",
       " 'Project',\n",
       " 'Gutenberg',\n",
       " 'EBook',\n",
       " 'of',\n",
       " 'Frankenstein',\n",
       " ',',\n",
       " 'by',\n",
       " 'Mary',\n",
       " 'W.',\n",
       " 'Shelley',\n",
       " 'This',\n",
       " 'eBook',\n",
       " 'is',\n",
       " 'for',\n",
       " 'the',\n",
       " 'use',\n",
       " 'of',\n",
       " 'anyone',\n",
       " 'anywhere']"
      ]
     },
     "execution_count": 12,
     "metadata": {},
     "output_type": "execute_result"
    }
   ],
   "source": [
    "franken_tokens[:20]"
   ]
  },
  {
   "cell_type": "code",
   "execution_count": null,
   "id": "176640e2",
   "metadata": {},
   "outputs": [],
   "source": []
  }
 ],
 "metadata": {
  "kernelspec": {
   "display_name": "Python 3 (ipykernel)",
   "language": "python",
   "name": "python3"
  },
  "language_info": {
   "codemirror_mode": {
    "name": "ipython",
    "version": 3
   },
   "file_extension": ".py",
   "mimetype": "text/x-python",
   "name": "python",
   "nbconvert_exporter": "python",
   "pygments_lexer": "ipython3",
   "version": "3.9.13"
  }
 },
 "nbformat": 4,
 "nbformat_minor": 5
}
